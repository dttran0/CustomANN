{
 "cells": [
  {
   "cell_type": "code",
   "execution_count": 25,
   "metadata": {},
   "outputs": [],
   "source": [
    "import torch\n",
    "import torch.nn as nn\n",
    "import torchvision\n",
    "import torch.nn.functional as F\n",
    "import CocoDataset2\n",
    "from torch.utils.data import DataLoader\n",
    "from torchvision.transforms import transforms\n",
    "import torch.optim as optim\n",
    "\n",
    "# Define a convolution neural network\n",
    "class CNN(nn.Module):\n",
    "    def __init__(self, dropout_rate =0.5, weight_decay=1e-4):\n",
    "        super(CNN, self).__init__()\n",
    "        #include the batch normalization and max pooling in accounting for overfitting\n",
    "        self.conv1 = nn.Conv2d(in_channels=3, out_channels=12, kernel_size=5, stride=1, padding=1)\n",
    "        self.bn1 = nn.BatchNorm2d(12)\n",
    "        self.conv2 = nn.Conv2d(in_channels=12, out_channels=12, kernel_size=5, stride=1, padding=1)\n",
    "        self.bn2 = nn.BatchNorm2d(12)\n",
    "        self.pool = nn.MaxPool2d(2,2)\n",
    "        self.conv4 = nn.Conv2d(in_channels=12, out_channels=24, kernel_size=5, stride=1, padding=1)\n",
    "        self.bn4 = nn.BatchNorm2d(24)\n",
    "        self.conv5 = nn.Conv2d(in_channels=24, out_channels=24, kernel_size=5, stride=1, padding=1)\n",
    "        self.bn5 = nn.BatchNorm2d(24)\n",
    "        self.flatten = nn.Flatten()\n",
    "        self.fc1 = nn.Linear(80736, 10)\n",
    "        self.dropout = nn.Dropout(p=dropout_rate)\n",
    "        self.weight_decay = weight_decay\n",
    "\n",
    "    def forward(self, input):\n",
    "        #compute value of the loss function\n",
    "        output = F.relu(self.bn1(self.conv1(input)))      \n",
    "        output = F.relu(self.bn2(self.conv2(output)))     \n",
    "        output = self.pool(output)                        \n",
    "        output = F.relu(self.bn4(self.conv4(output)))     \n",
    "        output = F.relu(self.bn5(self.conv5(output)))     \n",
    "        output = self.flatten(output)\n",
    "        print(\"Flattened output shape:\", output.shape)\n",
    "\n",
    "        output = self.dropout(output)\n",
    "        output = self.fc1(output)\n",
    "\n",
    "        return output\n"
   ]
  },
  {
   "cell_type": "code",
   "execution_count": 3,
   "metadata": {},
   "outputs": [],
   "source": [
    "def collate_fn(batch):\n",
    "    images, annotations = zip(*batch)\n",
    "\n",
    "    # Process annotations to extract labels (assuming \"labels\" is the key)\n",
    "    labels = [a[\"labels\"] for a in annotations]\n",
    "\n",
    "    # Stack images and labels into tensors\n",
    "    images = torch.stack(images)\n",
    "    labels = torch.cat(labels)\n",
    "\n",
    "    return images, labels"
   ]
  },
  {
   "cell_type": "code",
   "execution_count": 14,
   "metadata": {},
   "outputs": [],
   "source": [
    "transformations = torchvision.transforms.Compose([\n",
    "    torchvision.transforms.ToTensor(),\n",
    "    torchvision.transforms.Resize((128, 128)),\n",
    "    torchvision.transforms.Normalize((0.5, 0.5, 0.5), (0.5, 0.5, 0.5))\n",
    "])"
   ]
  },
  {
   "cell_type": "code",
   "execution_count": 29,
   "metadata": {},
   "outputs": [
    {
     "name": "stdout",
     "output_type": "stream",
     "text": [
      "loading annotations into memory...\n",
      "Done (t=10.93s)\n",
      "creating index...\n",
      "index created!\n"
     ]
    }
   ],
   "source": [
    "# Load MS COCO dataset (change the data path accordingly)\n",
    "coco_dataset = CocoDataset2.CocoDataset(\n",
    "    root_path= \"C:/Users/trand/Turion Space Challenge/coco2017/train2017\",\n",
    "    annotation_file= \"C:/Users/trand/Turion Space Challenge/coco2017/annotations/instances_train2017.json\", transforms=transformations\n",
    ")\n",
    "\n",
    "# Create a DataLoader\n",
    "data_loader = DataLoader(coco_dataset, batch_size=32, collate_fn=collate_fn)\n",
    "\n"
   ]
  },
  {
   "cell_type": "code",
   "execution_count": 16,
   "metadata": {},
   "outputs": [
    {
     "name": "stdout",
     "output_type": "stream",
     "text": [
      "118287\n"
     ]
    }
   ],
   "source": [
    "print(len(coco_dataset))"
   ]
  },
  {
   "cell_type": "code",
   "execution_count": 27,
   "metadata": {},
   "outputs": [],
   "source": [
    "# Initialize the model, loss function, and optimizer\n",
    "model = CNN()\n",
    "loss_fn = nn.CrossEntropyLoss()\n",
    "optimizer = optim.Adam(model.parameters(), lr=0.001, weight_decay=0.0001)\n",
    "optimizer2 = optim.SGD(model.parameters(), lr=0.001, momentum=0.9, weight_decay=0.0001)\n",
    "\n"
   ]
  },
  {
   "cell_type": "code",
   "execution_count": 18,
   "metadata": {},
   "outputs": [],
   "source": [
    "def saveModel():\n",
    "    path = \"./ModelCOCO.pth\"\n",
    "    torch.save(model.state_dict(), path)"
   ]
  },
  {
   "cell_type": "code",
   "execution_count": 19,
   "metadata": {},
   "outputs": [],
   "source": [
    "import matplotlib.pyplot as plt\n",
    "import numpy as np\n",
    "\n",
    "def show_loss(loss_list):\n",
    "    epochs = np.arange(1, len(loss_list)+1)\n",
    "    plt.figure(figsize=(10, 5))\n",
    "    plt.plot(epochs, loss_list, label='Training Loss', marker='o')\n",
    "    plt.title('Training Loss Over Epochs')\n",
    "    plt.xlabel('Epoch')\n",
    "    plt.ylabel('Loss')\n",
    "    plt.legend()\n",
    "    plt.grid(True)\n",
    "    plt.show()"
   ]
  },
  {
   "cell_type": "code",
   "execution_count": 21,
   "metadata": {},
   "outputs": [],
   "source": [
    "def plot_uncertainty(pred_mean, pred_variance, epoch):\n",
    "    # Plot the predictive mean\n",
    "\n",
    "    # Generate x-axis values (epochs)\n",
    "    classes = np.arange(1, 11)\n",
    "    new_pred_mean = np.array(pred_mean)\n",
    "    new_pred_variance = np.array(pred_variance)\n",
    "    # Plot predictive mean\n",
    "    plt.plot(classes, new_pred_mean, marker='o', linestyle='-', color='b', label='Predictive Mean')\n",
    "\n",
    "    # Plot uncertainty as a filled area\n",
    "    plt.fill_between(classes, new_pred_mean - np.sqrt(new_pred_variance), new_pred_mean + np.sqrt(new_pred_variance),\n",
    "                 color='blue', alpha=0.2, label='Uncertainty Estimation')\n",
    "\n",
    "    # Add labels and title\n",
    "    plt.xlabel('Class')\n",
    "    plt.ylabel('Predictive Mean and Uncertainty')\n",
    "    plt.title('Predictive Mean and Uncertainty Estimation Over Epochs ' + str(epoch+1))\n",
    "    plt.legend()\n",
    "\n",
    "    # Show the plot\n",
    "    plt.show()"
   ]
  },
  {
   "cell_type": "code",
   "execution_count": 28,
   "metadata": {},
   "outputs": [
    {
     "name": "stdout",
     "output_type": "stream",
     "text": [
      "Flattened output shape: torch.Size([16, 80736])\n"
     ]
    },
    {
     "ename": "ValueError",
     "evalue": "Expected input batch_size (16) to match target batch_size (72).",
     "output_type": "error",
     "traceback": [
      "\u001b[1;31m---------------------------------------------------------------------------\u001b[0m",
      "\u001b[1;31mValueError\u001b[0m                                Traceback (most recent call last)",
      "\u001b[1;32mc:\\Users\\trand\\Turion Space Challenge\\demo.ipynb Cell 10\u001b[0m line \u001b[0;36m1\n\u001b[0;32m     <a href='vscode-notebook-cell:/c%3A/Users/trand/Turion%20Space%20Challenge/demo.ipynb#W3sZmlsZQ%3D%3D?line=16'>17</a>\u001b[0m outputs \u001b[39m=\u001b[39m model(images)\n\u001b[0;32m     <a href='vscode-notebook-cell:/c%3A/Users/trand/Turion%20Space%20Challenge/demo.ipynb#W3sZmlsZQ%3D%3D?line=17'>18</a>\u001b[0m \u001b[39m# compute the loss based on model output and real labels\u001b[39;00m\n\u001b[1;32m---> <a href='vscode-notebook-cell:/c%3A/Users/trand/Turion%20Space%20Challenge/demo.ipynb#W3sZmlsZQ%3D%3D?line=18'>19</a>\u001b[0m loss \u001b[39m=\u001b[39m loss_fn(outputs, labels)\n\u001b[0;32m     <a href='vscode-notebook-cell:/c%3A/Users/trand/Turion%20Space%20Challenge/demo.ipynb#W3sZmlsZQ%3D%3D?line=19'>20</a>\u001b[0m \u001b[39m# backpropagate the loss\u001b[39;00m\n\u001b[0;32m     <a href='vscode-notebook-cell:/c%3A/Users/trand/Turion%20Space%20Challenge/demo.ipynb#W3sZmlsZQ%3D%3D?line=20'>21</a>\u001b[0m loss\u001b[39m.\u001b[39mbackward()\n",
      "File \u001b[1;32mc:\\Users\\trand\\anaconda3\\envs\\turion\\lib\\site-packages\\torch\\nn\\modules\\module.py:1518\u001b[0m, in \u001b[0;36mModule._wrapped_call_impl\u001b[1;34m(self, *args, **kwargs)\u001b[0m\n\u001b[0;32m   1516\u001b[0m     \u001b[39mreturn\u001b[39;00m \u001b[39mself\u001b[39m\u001b[39m.\u001b[39m_compiled_call_impl(\u001b[39m*\u001b[39margs, \u001b[39m*\u001b[39m\u001b[39m*\u001b[39mkwargs)  \u001b[39m# type: ignore[misc]\u001b[39;00m\n\u001b[0;32m   1517\u001b[0m \u001b[39melse\u001b[39;00m:\n\u001b[1;32m-> 1518\u001b[0m     \u001b[39mreturn\u001b[39;00m \u001b[39mself\u001b[39m\u001b[39m.\u001b[39m_call_impl(\u001b[39m*\u001b[39margs, \u001b[39m*\u001b[39m\u001b[39m*\u001b[39mkwargs)\n",
      "File \u001b[1;32mc:\\Users\\trand\\anaconda3\\envs\\turion\\lib\\site-packages\\torch\\nn\\modules\\module.py:1527\u001b[0m, in \u001b[0;36mModule._call_impl\u001b[1;34m(self, *args, **kwargs)\u001b[0m\n\u001b[0;32m   1522\u001b[0m \u001b[39m# If we don't have any hooks, we want to skip the rest of the logic in\u001b[39;00m\n\u001b[0;32m   1523\u001b[0m \u001b[39m# this function, and just call forward.\u001b[39;00m\n\u001b[0;32m   1524\u001b[0m \u001b[39mif\u001b[39;00m \u001b[39mnot\u001b[39;00m (\u001b[39mself\u001b[39m\u001b[39m.\u001b[39m_backward_hooks \u001b[39mor\u001b[39;00m \u001b[39mself\u001b[39m\u001b[39m.\u001b[39m_backward_pre_hooks \u001b[39mor\u001b[39;00m \u001b[39mself\u001b[39m\u001b[39m.\u001b[39m_forward_hooks \u001b[39mor\u001b[39;00m \u001b[39mself\u001b[39m\u001b[39m.\u001b[39m_forward_pre_hooks\n\u001b[0;32m   1525\u001b[0m         \u001b[39mor\u001b[39;00m _global_backward_pre_hooks \u001b[39mor\u001b[39;00m _global_backward_hooks\n\u001b[0;32m   1526\u001b[0m         \u001b[39mor\u001b[39;00m _global_forward_hooks \u001b[39mor\u001b[39;00m _global_forward_pre_hooks):\n\u001b[1;32m-> 1527\u001b[0m     \u001b[39mreturn\u001b[39;00m forward_call(\u001b[39m*\u001b[39margs, \u001b[39m*\u001b[39m\u001b[39m*\u001b[39mkwargs)\n\u001b[0;32m   1529\u001b[0m \u001b[39mtry\u001b[39;00m:\n\u001b[0;32m   1530\u001b[0m     result \u001b[39m=\u001b[39m \u001b[39mNone\u001b[39;00m\n",
      "File \u001b[1;32mc:\\Users\\trand\\anaconda3\\envs\\turion\\lib\\site-packages\\torch\\nn\\modules\\loss.py:1179\u001b[0m, in \u001b[0;36mCrossEntropyLoss.forward\u001b[1;34m(self, input, target)\u001b[0m\n\u001b[0;32m   1178\u001b[0m \u001b[39mdef\u001b[39;00m \u001b[39mforward\u001b[39m(\u001b[39mself\u001b[39m, \u001b[39minput\u001b[39m: Tensor, target: Tensor) \u001b[39m-\u001b[39m\u001b[39m>\u001b[39m Tensor:\n\u001b[1;32m-> 1179\u001b[0m     \u001b[39mreturn\u001b[39;00m F\u001b[39m.\u001b[39;49mcross_entropy(\u001b[39minput\u001b[39;49m, target, weight\u001b[39m=\u001b[39;49m\u001b[39mself\u001b[39;49m\u001b[39m.\u001b[39;49mweight,\n\u001b[0;32m   1180\u001b[0m                            ignore_index\u001b[39m=\u001b[39;49m\u001b[39mself\u001b[39;49m\u001b[39m.\u001b[39;49mignore_index, reduction\u001b[39m=\u001b[39;49m\u001b[39mself\u001b[39;49m\u001b[39m.\u001b[39;49mreduction,\n\u001b[0;32m   1181\u001b[0m                            label_smoothing\u001b[39m=\u001b[39;49m\u001b[39mself\u001b[39;49m\u001b[39m.\u001b[39;49mlabel_smoothing)\n",
      "File \u001b[1;32mc:\\Users\\trand\\anaconda3\\envs\\turion\\lib\\site-packages\\torch\\nn\\functional.py:3053\u001b[0m, in \u001b[0;36mcross_entropy\u001b[1;34m(input, target, weight, size_average, ignore_index, reduce, reduction, label_smoothing)\u001b[0m\n\u001b[0;32m   3051\u001b[0m \u001b[39mif\u001b[39;00m size_average \u001b[39mis\u001b[39;00m \u001b[39mnot\u001b[39;00m \u001b[39mNone\u001b[39;00m \u001b[39mor\u001b[39;00m reduce \u001b[39mis\u001b[39;00m \u001b[39mnot\u001b[39;00m \u001b[39mNone\u001b[39;00m:\n\u001b[0;32m   3052\u001b[0m     reduction \u001b[39m=\u001b[39m _Reduction\u001b[39m.\u001b[39mlegacy_get_string(size_average, reduce)\n\u001b[1;32m-> 3053\u001b[0m \u001b[39mreturn\u001b[39;00m torch\u001b[39m.\u001b[39;49m_C\u001b[39m.\u001b[39;49m_nn\u001b[39m.\u001b[39;49mcross_entropy_loss(\u001b[39minput\u001b[39;49m, target, weight, _Reduction\u001b[39m.\u001b[39;49mget_enum(reduction), ignore_index, label_smoothing)\n",
      "\u001b[1;31mValueError\u001b[0m: Expected input batch_size (16) to match target batch_size (72)."
     ]
    }
   ],
   "source": [
    "\n",
    "best_accuracy = 0.0\n",
    "train_loss = []\n",
    "\n",
    "for epoch in range(5):  # loop over the dataset multiple times\n",
    "    running_loss = 0.0\n",
    "    running_acc = 0.0\n",
    "\n",
    "    for i, (images, labels) in enumerate(data_loader):\n",
    "        \n",
    "        # get the inputs\n",
    "        # images = Variable(images.to(device))\n",
    "        # labels = Variable(labels.to(device))\n",
    "\n",
    "        # zero the parameter gradients\n",
    "        optimizer.zero_grad()\n",
    "        # predict classes using images from the training set\n",
    "        outputs = model(images)\n",
    "        # compute the loss based on model output and real labels\n",
    "        loss = loss_fn(outputs, labels)\n",
    "        # backpropagate the loss\n",
    "        loss.backward()\n",
    "        # adjust parameters based on the calculated gradients\n",
    "        optimizer.step()\n",
    "\n",
    "        # Let's print statistics for every 1,000 images\n",
    "        running_loss += loss.item()     # extract the loss value\n",
    "        if i % 1000 == 999:    \n",
    "            # print every 1000 (twice per epoch) \n",
    "            print('[%d, %5d] loss: %.3f' %\n",
    "                    (epoch + 1, i + 1, running_loss / 1000))\n",
    "            # zero the loss\n",
    "            running_loss = 0.0\n",
    "    avg_train_loss =  running_loss / len(train_loader)\n",
    "    print('average training loss: ' + str(avg_train_loss))\n",
    "    train_loss.append(avg_train_loss)\n",
    "       \n",
    "    model.eval()\n",
    "    accuracy = 0.0\n",
    "    total = 0.0\n",
    "    probs = []\n",
    "    max_len = 0\n",
    "    #compare with the test set \n",
    "    with torch.no_grad():\n",
    "        for data in test_loader:\n",
    "            images, labels = data\n",
    "            # run the model on the test set to predict labels\n",
    "            outputs = model(images)\n",
    "            # the label with the highest energy will be our prediction\n",
    "            _, predicted = torch.max(outputs.data, 1)\n",
    "            total += labels.size(0)\n",
    "            accuracy += (predicted == labels).sum().item()\n",
    "\n",
    "            #softmax due to our image classification task \n",
    "            probs.append(outputs.softmax(dim=1).numpy())\n",
    "            max_len = max(max_len, outputs.shape[1])\n",
    "    #give the percentage accuracy \n",
    "    accuracy = (100 * accuracy / total)\n",
    "    print('For epoch', epoch+1,'the test accuracy over the whole test set is %d %%' % (accuracy))\n",
    "    \n",
    "    l = 8\n",
    "    N = 118287\n",
    "    for i in range(len(probs)):\n",
    "        current_len = probs[i].shape[0]\n",
    "        if current_len < max_len:\n",
    "            # Pad with zeros\n",
    "            padding = max_len - current_len\n",
    "            probs[i] = np.concatenate((probs[i], np.zeros((padding,))))\n",
    "        elif current_len > max_len:\n",
    "            # Trim\n",
    "            probs[i] = probs[i][:max_len]\n",
    "    #will produce a list with 10 lists each present the predictive mean for each class\n",
    "    predictive_mean = np.mean(probs, axis=0)\n",
    "    #similar to the predictive mean\n",
    "    predictive_variance = np.var(probs, axis=0)\n",
    "    tau = l**2 * (1 - model.dropout.p) / (2 * N * model.weight_decay)\n",
    "    predictive_variance += tau**-1\n",
    "\n",
    "    print(\"Predictive mean for epoch\", epoch+1, len(predictive_mean[0]))\n",
    "    print(\"Uncertainty estimation for epoch\", epoch+1, len(predictive_variance[0]))\n",
    "    #plot the uncertainty over predicitve mean on each epochs (iterations **)\n",
    "    plot_uncertainty(predictive_mean[0], predictive_variance[0], epoch)\n",
    "\n",
    "    if accuracy > best_accuracy:\n",
    "        saveModel()\n",
    "        best_accuracy = accuracy\n",
    "\n"
   ]
  }
 ],
 "metadata": {
  "kernelspec": {
   "display_name": "turion",
   "language": "python",
   "name": "python3"
  },
  "language_info": {
   "codemirror_mode": {
    "name": "ipython",
    "version": 3
   },
   "file_extension": ".py",
   "mimetype": "text/x-python",
   "name": "python",
   "nbconvert_exporter": "python",
   "pygments_lexer": "ipython3",
   "version": "3.9.12"
  }
 },
 "nbformat": 4,
 "nbformat_minor": 2
}
